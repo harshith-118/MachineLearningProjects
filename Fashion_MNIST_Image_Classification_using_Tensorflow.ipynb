{
  "nbformat": 4,
  "nbformat_minor": 0,
  "metadata": {
    "colab": {
      "name": "Fashion MNIST Image Classification using Tensorflow",
      "provenance": [],
      "authorship_tag": "ABX9TyPQNxxBL1moHTAgL5hZguG+",
      "include_colab_link": true
    },
    "kernelspec": {
      "name": "python3",
      "display_name": "Python 3"
    },
    "language_info": {
      "name": "python"
    }
  },
  "cells": [
    {
      "cell_type": "markdown",
      "metadata": {
        "id": "view-in-github",
        "colab_type": "text"
      },
      "source": [
        "<a href=\"https://colab.research.google.com/github/harshith-118/MachineLearningProjects/blob/main/Fashion_MNIST_Image_Classification_using_Tensorflow.ipynb\" target=\"_parent\"><img src=\"https://colab.research.google.com/assets/colab-badge.svg\" alt=\"Open In Colab\"/></a>"
      ]
    },
    {
      "cell_type": "code",
      "execution_count": null,
      "metadata": {
        "id": "t6JK9W37_s1D"
      },
      "outputs": [],
      "source": [
        "import tensorflow as tf\n",
        "from tensorflow import keras\n",
        "from tensorflow.keras import layers, models\n",
        "from tensorflow.keras.models import load_model\n",
        "import os"
      ]
    },
    {
      "cell_type": "code",
      "source": [
        "import numpy as np\n",
        "import matplotlib.pyplot as plt"
      ],
      "metadata": {
        "id": "bq4P6TGvAiZP"
      },
      "execution_count": null,
      "outputs": []
    },
    {
      "cell_type": "code",
      "source": [
        "fashion_mnist = keras.datasets.fashion_mnist"
      ],
      "metadata": {
        "id": "egKslYxRAp7-"
      },
      "execution_count": null,
      "outputs": []
    },
    {
      "cell_type": "code",
      "source": [
        "(train_images, train_labels), (test_images, test_labels) = fashion_mnist.load_data()"
      ],
      "metadata": {
        "colab": {
          "base_uri": "https://localhost:8080/"
        },
        "id": "2y3qKZB-At0l",
        "outputId": "9e1b3a61-2808-4a30-e589-eeda54dab822"
      },
      "execution_count": null,
      "outputs": [
        {
          "output_type": "stream",
          "name": "stdout",
          "text": [
            "Downloading data from https://storage.googleapis.com/tensorflow/tf-keras-datasets/train-labels-idx1-ubyte.gz\n",
            "32768/29515 [=================================] - 0s 0us/step\n",
            "40960/29515 [=========================================] - 0s 0us/step\n",
            "Downloading data from https://storage.googleapis.com/tensorflow/tf-keras-datasets/train-images-idx3-ubyte.gz\n",
            "26427392/26421880 [==============================] - 0s 0us/step\n",
            "26435584/26421880 [==============================] - 0s 0us/step\n",
            "Downloading data from https://storage.googleapis.com/tensorflow/tf-keras-datasets/t10k-labels-idx1-ubyte.gz\n",
            "16384/5148 [===============================================================================================] - 0s 0us/step\n",
            "Downloading data from https://storage.googleapis.com/tensorflow/tf-keras-datasets/t10k-images-idx3-ubyte.gz\n",
            "4423680/4422102 [==============================] - 0s 0us/step\n",
            "4431872/4422102 [==============================] - 0s 0us/step\n"
          ]
        }
      ]
    },
    {
      "cell_type": "code",
      "source": [
        "train_images.shape"
      ],
      "metadata": {
        "colab": {
          "base_uri": "https://localhost:8080/"
        },
        "id": "KqGbLatSAyaD",
        "outputId": "0ba27a6e-b6b4-4d29-c869-350d2353f288"
      },
      "execution_count": null,
      "outputs": [
        {
          "output_type": "execute_result",
          "data": {
            "text/plain": [
              "(60000, 28, 28)"
            ]
          },
          "metadata": {},
          "execution_count": 6
        }
      ]
    },
    {
      "cell_type": "markdown",
      "source": [
        "Thus we see that training dataset has 60000 images (rows) each of size (28,28) or 28x28 i.e. 2-D images, and each pixel is a value from 0 to 255 describing the pixel intensity. 0 for white and 255 for black."
      ],
      "metadata": {
        "id": "-QXfOUD4A3i0"
      }
    },
    {
      "cell_type": "code",
      "source": [
        "plt.figure()\n",
        "plt.imshow(np.squeeze(train_images[220]))"
      ],
      "metadata": {
        "colab": {
          "base_uri": "https://localhost:8080/",
          "height": 282
        },
        "id": "lR8XoZr4A03b",
        "outputId": "a39cb90a-adb3-4100-e119-0121b56b4f0d"
      },
      "execution_count": null,
      "outputs": [
        {
          "output_type": "execute_result",
          "data": {
            "text/plain": [
              "<matplotlib.image.AxesImage at 0x7fe910620110>"
            ]
          },
          "metadata": {},
          "execution_count": 7
        },
        {
          "output_type": "display_data",
          "data": {
            "text/plain": [
              "<Figure size 432x288 with 1 Axes>"
            ],
            "image/png": "[encoded data removed]"
          },
          "metadata": {
            "needs_background": "light"
          }
        }
      ]
    },
    {
      "cell_type": "markdown",
      "source": [
        "The class labels for Fashion MNIST are:\n",
        "<br>\n",
        "<br>\n",
        "<b>Label</b> &nbsp;  <b>Description</b>\n",
        "<br>\n",
        "0   &nbsp;&nbsp;&nbsp;&nbsp;&nbsp;&nbsp;&nbsp;   T-shirt/top\n",
        "<br>\n",
        "1   &nbsp;&nbsp;&nbsp;&nbsp;&nbsp;&nbsp;&nbsp;   Trouser\n",
        "<br>\n",
        "2   &nbsp;&nbsp;&nbsp;&nbsp;&nbsp;&nbsp;&nbsp;   Pullover\n",
        "<br>\n",
        "3   &nbsp;&nbsp;&nbsp;&nbsp;&nbsp;&nbsp;&nbsp;   Dress\n",
        "<br>\n",
        "4   &nbsp;&nbsp;&nbsp;&nbsp;&nbsp;&nbsp;&nbsp;   Coat\n",
        "<br>\n",
        "5   &nbsp;&nbsp;&nbsp;&nbsp;&nbsp;&nbsp;&nbsp;   Sandal\n",
        "<br>\n",
        "6   &nbsp;&nbsp;&nbsp;&nbsp;&nbsp;&nbsp;&nbsp;   Shirt\n",
        "<br>\n",
        "7   &nbsp;&nbsp;&nbsp;&nbsp;&nbsp;&nbsp;&nbsp;   Sneaker\n",
        "<br>\n",
        "8   &nbsp;&nbsp;&nbsp;&nbsp;&nbsp;&nbsp;&nbsp;   Bag\n",
        "<br>\n",
        "9   &nbsp;&nbsp;&nbsp;&nbsp;&nbsp;&nbsp;&nbsp;   Ankle boot\n",
        "<br>\n"
      ],
      "metadata": {
        "id": "RfWlgbXkHAd0"
      }
    },
    {
      "cell_type": "code",
      "source": [
        "class_names = ['T-shirt/top', 'Trouser', 'Pullover', 'Dress', 'Coat', \n",
        "               'Sandal', 'Shirt', 'Sneaker', 'Bag', 'Ankle boot']"
      ],
      "metadata": {
        "id": "ii3_pbm6AwA9"
      },
      "execution_count": null,
      "outputs": []
    },
    {
      "cell_type": "code",
      "source": [
        "plt.figure(figsize=(10,10))\n",
        "for i in range(15):\n",
        "    plt.subplot(5,5,i+1)\n",
        "    plt.xticks([])\n",
        "    plt.yticks([])\n",
        "    plt.imshow(train_images[i], cmap=plt.cm.binary)\n",
        "    plt.xlabel(class_names[train_labels[i]])\n",
        "plt.show()"
      ],
      "metadata": {
        "colab": {
          "base_uri": "https://localhost:8080/",
          "height": 364
        },
        "id": "jdZkwRx5A97x",
        "outputId": "0396fb80-3f54-4641-e0f5-f7dcf524b6c2"
      },
      "execution_count": null,
      "outputs": [
        {
          "output_type": "display_data",
          "data": {
            "text/plain": [
              "<Figure size 720x720 with 15 Axes>"
            ],
            "image/png": "[encoded data removed]"
          },
          "metadata": {}
        }
      ]
    },
    {
      "cell_type": "markdown",
      "source": [
        "Now, since, we have one more dimension for the images i.e. Channels (color), let us add it to the dimensions of train_images and test_images by using reshape() function. In this case, it is a single color (hence, channels=1) i.e. 'grayscale'."
      ],
      "metadata": {
        "id": "PinHYTizBIAA"
      }
    },
    {
      "cell_type": "code",
      "source": [
        "train_images = train_images.reshape((60000, 28, 28, 1))\n",
        "test_images = test_images.reshape((10000, 28, 28, 1))"
      ],
      "metadata": {
        "id": "EpwLaip4BAtx"
      },
      "execution_count": null,
      "outputs": []
    },
    {
      "cell_type": "code",
      "source": [
        "train_images_norm = train_images / 255.0\n",
        "test_images_norm = test_images / 255.0"
      ],
      "metadata": {
        "id": "pJJo3YA1BEQ7"
      },
      "execution_count": null,
      "outputs": []
    },
    {
      "cell_type": "markdown",
      "source": [
        "Since a convolutional layer takes a 2-D image (2-D array) as input, we needn't convert these 2-D images to a 1-D arrays\n",
        "\n",
        "If we had to feed these 2-D images to a DNN (hidden layer), which expects a 1-D array as input, we would have to convert these 2-D iamges to 1-D arrays before feeding to hidden layer (DNN)"
      ],
      "metadata": {
        "id": "dSW-zEzPG7Gq"
      }
    },
    {
      "cell_type": "code",
      "source": [
        "conv1 = layers.Conv2D(32, (3,3), activation='relu', input_shape=(28,28,1) )\n",
        "conv2 = layers.Conv2D(64, (3,3), activation='relu')\n",
        "conv3 = layers.Conv2D(128, (3,3), activation='relu')\n",
        "max_pool_1 = layers.MaxPooling2D((2,2))\n",
        "max_pool_2 = layers.MaxPooling2D((2,2))\n",
        "max_pool_3 = layers.MaxPooling2D((2,2))\n",
        "drop_1 = keras.layers.Dropout(0.5)\n",
        "drop_2 = keras.layers.Dropout(0.5)\n",
        "drop_3 = keras.layers.Dropout(0.5)\n",
        "flat_layer = layers.Flatten()\n",
        "fc = layers.Dense(128, activation='relu')\n",
        "output = layers.Dense(10, 'softmax')"
      ],
      "metadata": {
        "id": "FIBSs5XXBLLu"
      },
      "execution_count": null,
      "outputs": []
    },
    {
      "cell_type": "markdown",
      "source": [
        "The simplest way to prevent overfitting is to reduce the size of the model, i.e. the number of learnable parameters (number of layers and the number of neurons per layer). Second option to remove overfitting is to use Regularization techniques like - L1, L2, Dropout.\n",
        "\n",
        "If the neural network has less number of layers and neurons per layer, it may not perform well even on the Training dataset i.e. may lead to Underfitting issue. And if neural network has more number of layers and neurons per layer, it may perform very well (high accuracy) on the Training dataset, but may not perform well on Test dataset i.e. may lead to Overfitting issue.\n",
        "\n",
        "Unfortunately, there is no definite formula to determine the right architecture of your model (number of layers, number of neurons in each layer). You will have to find the right(optimum) architecture by trial and error (experimentation) method only.\n",
        "\n",
        "Though, for neural networks, we have other regularization techniques like L1, L2 regularization, Dropout is the most effective of all and most commonly used regularization technique .\n",
        "\n",
        "Dropout, when applied to a layer, involves of randomly \"dropping out\" (i.e. set to zero) a number of output features (neurons) of the layer. Let's say output of a layer before applying Dropout was [05, 0.8, 2.2, 0.9, 0.1], after applying dropout, the output will be [0, 0.8. 2.2, 0, 0.1].\n",
        "\n",
        "The \"dropout rate\" is the fraction of the features(neurons) that are being zeroed-out in the layer. Generally the value of dropout rate is kept between 0.2 and 0.5.\n",
        "\n",
        "Please note that, Dropout is applied only during the Training phase, and TensorFlow Keras API (evaluate() method) takes care of it internally, we don't need to remove the Dropout layer explicitly(manually) from the model at the time of prediction on the Test dataset.</b>\n",
        "\n",
        "In the Test phase, Dropout is not applied, instead the layer's output values are reduced by a factor equal to the dropout rate, so as to give a feeling that during Test phase also almost same number of neurons are active there were during the Training phase.\n",
        "\n",
        "Hence, to remove Overfitting issue in our case here, let us apply the regularization technique - Dropout.\n",
        "\n",
        "To implement the Dropout using TensorFlow Keras, we create a Dropout layer, and place this Dropout layer immediately after the layer to which this Dropout needs to be applied to.\n",
        "\n",
        "**NOTE**:\n",
        "<br>If there is a Pooling layer after a convolutional layer, the dropout layer is applied after the pooling layer (not just after the convolutional layer, i.e. between the convolutional layer and the pooling layer)"
      ],
      "metadata": {
        "id": "IAOQ1I6AInvt"
      }
    },
    {
      "cell_type": "code",
      "source": [
        "model = models.Sequential()\n",
        "\n",
        "model.add(conv1)\n",
        "model.add(conv2)\n",
        "model.add(max_pool_2)\n",
        "model.add(drop_2)\n",
        "model.add(conv3)\n",
        "model.add(max_pool_3)\n",
        "model.add(drop_3)\n",
        "model.add(flat_layer)\n",
        "model.add(fc)\n",
        "model.add(output)"
      ],
      "metadata": {
        "id": "UOK6_pxQBjAS"
      },
      "execution_count": null,
      "outputs": []
    },
    {
      "cell_type": "code",
      "source": [
        "model.summary()"
      ],
      "metadata": {
        "colab": {
          "base_uri": "https://localhost:8080/"
        },
        "id": "diTDixf1BkAi",
        "outputId": "1364eae5-34b7-4761-c5e7-8d51ca4458a7"
      },
      "execution_count": null,
      "outputs": [
        {
          "output_type": "stream",
          "name": "stdout",
          "text": [
            "Model: \"sequential_4\"\n",
            "_________________________________________________________________\n",
            " Layer (type)                Output Shape              Param #   \n",
            "=================================================================\n",
            " conv2d_6 (Conv2D)           (None, 26, 26, 32)        320       \n",
            "                                                                 \n",
            " conv2d_7 (Conv2D)           (None, 24, 24, 64)        18496     \n",
            "                                                                 \n",
            " max_pooling2d_5 (MaxPooling  (None, 12, 12, 64)       0         \n",
            " 2D)                                                             \n",
            "                                                                 \n",
            " dropout_1 (Dropout)         (None, 12, 12, 64)        0         \n",
            "                                                                 \n",
            " conv2d_8 (Conv2D)           (None, 10, 10, 128)       73856     \n",
            "                                                                 \n",
            " max_pooling2d_6 (MaxPooling  (None, 5, 5, 128)        0         \n",
            " 2D)                                                             \n",
            "                                                                 \n",
            " dropout_2 (Dropout)         (None, 5, 5, 128)         0         \n",
            "                                                                 \n",
            " flatten_2 (Flatten)         (None, 3200)              0         \n",
            "                                                                 \n",
            " dense_4 (Dense)             (None, 128)               409728    \n",
            "                                                                 \n",
            " dense_5 (Dense)             (None, 10)                1290      \n",
            "                                                                 \n",
            "=================================================================\n",
            "Total params: 503,690\n",
            "Trainable params: 503,690\n",
            "Non-trainable params: 0\n",
            "_________________________________________________________________\n"
          ]
        }
      ]
    },
    {
      "cell_type": "code",
      "source": [
        "model.compile(optimizer='adam',\n",
        "              loss='sparse_categorical_crossentropy',\n",
        "              metrics=['accuracy'])"
      ],
      "metadata": {
        "id": "MutKXB22B5N2"
      },
      "execution_count": null,
      "outputs": []
    },
    {
      "cell_type": "code",
      "source": [
        "model.fit(train_images_norm, train_labels, epochs=25, batch_size=512, shuffle=True, validation_split=0.1)"
      ],
      "metadata": {
        "colab": {
          "base_uri": "https://localhost:8080/"
        },
        "id": "besqUaStB8Kt",
        "outputId": "2c167884-d3da-432c-f59f-0229dccc9ff5"
      },
      "execution_count": null,
      "outputs": [
        {
          "output_type": "stream",
          "name": "stdout",
          "text": [
            "Epoch 1/25\n",
            "106/106 [==============================] - 186s 2s/step - loss: 0.7984 - accuracy: 0.7016 - val_loss: 0.4861 - val_accuracy: 0.8202\n",
            "Epoch 2/25\n",
            "106/106 [==============================] - 170s 2s/step - loss: 0.4762 - accuracy: 0.8254 - val_loss: 0.3901 - val_accuracy: 0.8602\n",
            "Epoch 3/25\n",
            "106/106 [==============================] - 169s 2s/step - loss: 0.4059 - accuracy: 0.8534 - val_loss: 0.3587 - val_accuracy: 0.8695\n",
            "Epoch 4/25\n",
            "106/106 [==============================] - 170s 2s/step - loss: 0.3582 - accuracy: 0.8721 - val_loss: 0.3077 - val_accuracy: 0.8893\n",
            "Epoch 5/25\n",
            "106/106 [==============================] - 168s 2s/step - loss: 0.3324 - accuracy: 0.8783 - val_loss: 0.2867 - val_accuracy: 0.8982\n",
            "Epoch 6/25\n",
            "106/106 [==============================] - 168s 2s/step - loss: 0.3073 - accuracy: 0.8876 - val_loss: 0.2810 - val_accuracy: 0.8988\n",
            "Epoch 7/25\n",
            "106/106 [==============================] - 170s 2s/step - loss: 0.2920 - accuracy: 0.8936 - val_loss: 0.2684 - val_accuracy: 0.9065\n",
            "Epoch 8/25\n",
            "106/106 [==============================] - 168s 2s/step - loss: 0.2806 - accuracy: 0.8978 - val_loss: 0.2519 - val_accuracy: 0.9103\n",
            "Epoch 9/25\n",
            "106/106 [==============================] - 168s 2s/step - loss: 0.2700 - accuracy: 0.9011 - val_loss: 0.2485 - val_accuracy: 0.9130\n",
            "Epoch 10/25\n",
            "106/106 [==============================] - 170s 2s/step - loss: 0.2565 - accuracy: 0.9064 - val_loss: 0.2358 - val_accuracy: 0.9177\n",
            "Epoch 11/25\n",
            "106/106 [==============================] - 168s 2s/step - loss: 0.2465 - accuracy: 0.9098 - val_loss: 0.2416 - val_accuracy: 0.9122\n",
            "Epoch 12/25\n",
            "106/106 [==============================] - 167s 2s/step - loss: 0.2399 - accuracy: 0.9121 - val_loss: 0.2342 - val_accuracy: 0.9185\n",
            "Epoch 13/25\n",
            "106/106 [==============================] - 167s 2s/step - loss: 0.2360 - accuracy: 0.9135 - val_loss: 0.2273 - val_accuracy: 0.9203\n",
            "Epoch 14/25\n",
            "106/106 [==============================] - 167s 2s/step - loss: 0.2260 - accuracy: 0.9164 - val_loss: 0.2180 - val_accuracy: 0.9223\n",
            "Epoch 15/25\n",
            "106/106 [==============================] - 167s 2s/step - loss: 0.2230 - accuracy: 0.9175 - val_loss: 0.2262 - val_accuracy: 0.9207\n",
            "Epoch 16/25\n",
            "106/106 [==============================] - 168s 2s/step - loss: 0.2125 - accuracy: 0.9210 - val_loss: 0.2192 - val_accuracy: 0.9207\n",
            "Epoch 17/25\n",
            "106/106 [==============================] - 168s 2s/step - loss: 0.2105 - accuracy: 0.9224 - val_loss: 0.2156 - val_accuracy: 0.9222\n",
            "Epoch 18/25\n",
            "106/106 [==============================] - 168s 2s/step - loss: 0.2044 - accuracy: 0.9243 - val_loss: 0.2039 - val_accuracy: 0.9272\n",
            "Epoch 19/25\n",
            "106/106 [==============================] - 168s 2s/step - loss: 0.1987 - accuracy: 0.9261 - val_loss: 0.2030 - val_accuracy: 0.9277\n",
            "Epoch 20/25\n",
            "106/106 [==============================] - 168s 2s/step - loss: 0.1939 - accuracy: 0.9284 - val_loss: 0.2103 - val_accuracy: 0.9245\n",
            "Epoch 21/25\n",
            "106/106 [==============================] - 168s 2s/step - loss: 0.1943 - accuracy: 0.9276 - val_loss: 0.1968 - val_accuracy: 0.9293\n",
            "Epoch 22/25\n",
            "106/106 [==============================] - 167s 2s/step - loss: 0.1859 - accuracy: 0.9317 - val_loss: 0.2033 - val_accuracy: 0.9270\n",
            "Epoch 23/25\n",
            "106/106 [==============================] - 167s 2s/step - loss: 0.1819 - accuracy: 0.9326 - val_loss: 0.1901 - val_accuracy: 0.9300\n",
            "Epoch 24/25\n",
            "106/106 [==============================] - 167s 2s/step - loss: 0.1766 - accuracy: 0.9334 - val_loss: 0.1952 - val_accuracy: 0.9285\n",
            "Epoch 25/25\n",
            "106/106 [==============================] - 167s 2s/step - loss: 0.1763 - accuracy: 0.9345 - val_loss: 0.1932 - val_accuracy: 0.9278\n"
          ]
        },
        {
          "output_type": "execute_result",
          "data": {
            "text/plain": [
              "<keras.callbacks.History at 0x7fe9081e5050>"
            ]
          },
          "metadata": {},
          "execution_count": 24
        }
      ]
    },
    {
      "cell_type": "code",
      "source": [
        "test_loss, test_accuracy = model.evaluate(test_images_norm, test_labels)"
      ],
      "metadata": {
        "colab": {
          "base_uri": "https://localhost:8080/"
        },
        "id": "6rtCnIzkCALQ",
        "outputId": "cd7bfca8-db40-4efe-aa58-a7b84c63fe67"
      },
      "execution_count": null,
      "outputs": [
        {
          "output_type": "stream",
          "name": "stdout",
          "text": [
            "313/313 [==============================] - 9s 28ms/step - loss: 0.2057 - accuracy: 0.9259\n"
          ]
        }
      ]
    },
    {
      "cell_type": "code",
      "source": [
        "print(test_accuracy)"
      ],
      "metadata": {
        "colab": {
          "base_uri": "https://localhost:8080/"
        },
        "id": "YkAEIfi4CEhf",
        "outputId": "58bfad7c-849a-41a1-c6e5-afd1c1518b8f"
      },
      "execution_count": null,
      "outputs": [
        {
          "output_type": "stream",
          "name": "stdout",
          "text": [
            "0.9258999824523926\n"
          ]
        }
      ]
    },
    {
      "cell_type": "markdown",
      "source": [
        "Now, let us make the predictions on Test dataset (say instance/image no. 88) to check the results"
      ],
      "metadata": {
        "id": "e6ktZinTC2IQ"
      }
    },
    {
      "cell_type": "code",
      "source": [
        "predicted_test_labels = model.predict(test_images_norm)"
      ],
      "metadata": {
        "id": "Udtsy6pqCwnq"
      },
      "execution_count": null,
      "outputs": []
    },
    {
      "cell_type": "code",
      "source": [
        "predicted_test_labels[88]"
      ],
      "metadata": {
        "colab": {
          "base_uri": "https://localhost:8080/"
        },
        "id": "xNofexHUC6TZ",
        "outputId": "16c1339f-cd53-4935-e0d8-0ae77def7385"
      },
      "execution_count": null,
      "outputs": [
        {
          "output_type": "execute_result",
          "data": {
            "text/plain": [
              "array([9.9937880e-01, 4.0824776e-08, 4.3331347e-05, 1.9729445e-05,\n",
              "       2.8956063e-06, 5.9215027e-10, 5.5373827e-04, 7.5123280e-10,\n",
              "       1.4577294e-06, 4.8626552e-09], dtype=float32)"
            ]
          },
          "metadata": {},
          "execution_count": 31
        }
      ]
    },
    {
      "cell_type": "code",
      "source": [
        "predicted_test_labels_index = np.argmax(predicted_test_labels[88])\n",
        "predicted_test_labels_index"
      ],
      "metadata": {
        "colab": {
          "base_uri": "https://localhost:8080/"
        },
        "id": "4XJnZ0peC8Jy",
        "outputId": "d540acbd-72d6-4bc2-e99d-9ce9fc58355e"
      },
      "execution_count": null,
      "outputs": [
        {
          "output_type": "execute_result",
          "data": {
            "text/plain": [
              "0"
            ]
          },
          "metadata": {},
          "execution_count": 32
        }
      ]
    },
    {
      "cell_type": "code",
      "source": [
        "test_labels[88]"
      ],
      "metadata": {
        "colab": {
          "base_uri": "https://localhost:8080/"
        },
        "id": "tPVN5jt3C-fV",
        "outputId": "f2dfd87c-d0ff-4fea-c84f-4125f77f879e"
      },
      "execution_count": null,
      "outputs": [
        {
          "output_type": "execute_result",
          "data": {
            "text/plain": [
              "0"
            ]
          },
          "metadata": {},
          "execution_count": 33
        }
      ]
    },
    {
      "cell_type": "code",
      "source": [
        "plt.figure()\n",
        "plt.imshow(np.squeeze(test_images[88]))"
      ],
      "metadata": {
        "colab": {
          "base_uri": "https://localhost:8080/",
          "height": 282
        },
        "id": "06tA8yNoDMG6",
        "outputId": "41cfb2f1-366d-4ded-e87c-58d38bbfcce7"
      },
      "execution_count": null,
      "outputs": [
        {
          "output_type": "execute_result",
          "data": {
            "text/plain": [
              "<matplotlib.image.AxesImage at 0x7fe908147b50>"
            ]
          },
          "metadata": {},
          "execution_count": 36
        },
        {
          "output_type": "display_data",
          "data": {
            "text/plain": [
              "<Figure size 432x288 with 1 Axes>"
            ],
            "image/png": "[encoded data removed]"
          },
          "metadata": {
            "needs_background": "light"
          }
        }
      ]
    },
    {
      "cell_type": "code",
      "source": [
        ""
      ],
      "metadata": {
        "id": "LZPuq0UeS_ke"
      },
      "execution_count": null,
      "outputs": []
    }
  ]
}